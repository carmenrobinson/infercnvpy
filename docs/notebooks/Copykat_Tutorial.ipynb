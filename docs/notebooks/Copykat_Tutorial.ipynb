{
 "cells": [
  {
   "cell_type": "code",
   "execution_count": 2,
   "id": "72181334",
   "metadata": {},
   "outputs": [],
   "source": [
    "import scanpy as sc\n",
    "import infercnvpy as cnv\n",
    "import matplotlib.pyplot as plt\n",
    "import anndata as ad\n",
    "\n",
    "sc.settings.set_figure_params(figsize=(5, 5))"
   ]
  },
  {
   "cell_type": "code",
   "execution_count": 3,
   "id": "f325fa9b",
   "metadata": {},
   "outputs": [],
   "source": [
    "adata = ad.read(\"adata_snRNAseq2\")"
   ]
  },
  {
   "cell_type": "code",
   "execution_count": 8,
   "id": "0dc2172b",
   "metadata": {
    "collapsed": true
   },
   "outputs": [
    {
     "data": {
      "text/html": [
       "<div>\n",
       "<style scoped>\n",
       "    .dataframe tbody tr th:only-of-type {\n",
       "        vertical-align: middle;\n",
       "    }\n",
       "\n",
       "    .dataframe tbody tr th {\n",
       "        vertical-align: top;\n",
       "    }\n",
       "\n",
       "    .dataframe thead th {\n",
       "        text-align: right;\n",
       "    }\n",
       "</style>\n",
       "<table border=\"1\" class=\"dataframe\">\n",
       "  <thead>\n",
       "    <tr style=\"text-align: right;\">\n",
       "      <th></th>\n",
       "      <th>length</th>\n",
       "      <th>gene_name</th>\n",
       "      <th>chromosome</th>\n",
       "      <th>start</th>\n",
       "      <th>end</th>\n",
       "      <th>biotype</th>\n",
       "      <th>n_cells</th>\n",
       "      <th>n_counts</th>\n",
       "    </tr>\n",
       "  </thead>\n",
       "  <tbody>\n",
       "    <tr>\n",
       "      <th>ENSMUSG00000000001</th>\n",
       "      <td>38866</td>\n",
       "      <td>Gnai3</td>\n",
       "      <td>3</td>\n",
       "      <td>108107280</td>\n",
       "      <td>108146146</td>\n",
       "      <td>protein_coding</td>\n",
       "      <td>901</td>\n",
       "      <td>14640.0</td>\n",
       "    </tr>\n",
       "    <tr>\n",
       "      <th>ENSMUSG00000000028</th>\n",
       "      <td>1483</td>\n",
       "      <td>Cdc45</td>\n",
       "      <td>16</td>\n",
       "      <td>18810108</td>\n",
       "      <td>18811591</td>\n",
       "      <td>protein_coding</td>\n",
       "      <td>157</td>\n",
       "      <td>4212.0</td>\n",
       "    </tr>\n",
       "    <tr>\n",
       "      <th>ENSMUSG00000000049</th>\n",
       "      <td>19103</td>\n",
       "      <td>Apoh</td>\n",
       "      <td>11</td>\n",
       "      <td>108395293</td>\n",
       "      <td>108414396</td>\n",
       "      <td>protein_coding</td>\n",
       "      <td>1159</td>\n",
       "      <td>18787.0</td>\n",
       "    </tr>\n",
       "    <tr>\n",
       "      <th>ENSMUSG00000000056</th>\n",
       "      <td>791</td>\n",
       "      <td>Narf</td>\n",
       "      <td>11</td>\n",
       "      <td>121245020</td>\n",
       "      <td>121245811</td>\n",
       "      <td>protein_coding</td>\n",
       "      <td>347</td>\n",
       "      <td>4189.0</td>\n",
       "    </tr>\n",
       "    <tr>\n",
       "      <th>ENSMUSG00000000078</th>\n",
       "      <td>2092</td>\n",
       "      <td>Klf6</td>\n",
       "      <td>13</td>\n",
       "      <td>5864678</td>\n",
       "      <td>5866770</td>\n",
       "      <td>snoRNA</td>\n",
       "      <td>66</td>\n",
       "      <td>683.0</td>\n",
       "    </tr>\n",
       "    <tr>\n",
       "      <th>...</th>\n",
       "      <td>...</td>\n",
       "      <td>...</td>\n",
       "      <td>...</td>\n",
       "      <td>...</td>\n",
       "      <td>...</td>\n",
       "      <td>...</td>\n",
       "      <td>...</td>\n",
       "      <td>...</td>\n",
       "    </tr>\n",
       "    <tr>\n",
       "      <th>ENSMUSG00000116987</th>\n",
       "      <td>29510</td>\n",
       "      <td>AC150035.3</td>\n",
       "      <td>16</td>\n",
       "      <td>91435293</td>\n",
       "      <td>91464803</td>\n",
       "      <td>protein_coding</td>\n",
       "      <td>100</td>\n",
       "      <td>936.0</td>\n",
       "    </tr>\n",
       "    <tr>\n",
       "      <th>ENSMUSG00000116988</th>\n",
       "      <td>65093</td>\n",
       "      <td>AC164314.2</td>\n",
       "      <td>17</td>\n",
       "      <td>8082695</td>\n",
       "      <td>8147788</td>\n",
       "      <td>protein_coding</td>\n",
       "      <td>223</td>\n",
       "      <td>1112.0</td>\n",
       "    </tr>\n",
       "    <tr>\n",
       "      <th>ENSMUSG00000116992</th>\n",
       "      <td>42514</td>\n",
       "      <td>AC183097.4</td>\n",
       "      <td>17</td>\n",
       "      <td>6369017</td>\n",
       "      <td>6411531</td>\n",
       "      <td>processed_transcript</td>\n",
       "      <td>547</td>\n",
       "      <td>16472.0</td>\n",
       "    </tr>\n",
       "    <tr>\n",
       "      <th>ENSMUSG00000116993</th>\n",
       "      <td>36081</td>\n",
       "      <td>AC135964.2</td>\n",
       "      <td>16</td>\n",
       "      <td>86770283</td>\n",
       "      <td>86806364</td>\n",
       "      <td>protein_coding</td>\n",
       "      <td>438</td>\n",
       "      <td>4375.0</td>\n",
       "    </tr>\n",
       "    <tr>\n",
       "      <th>ENSMUSG00000116995</th>\n",
       "      <td>3005</td>\n",
       "      <td>AC110534.5</td>\n",
       "      <td>17</td>\n",
       "      <td>3111790</td>\n",
       "      <td>3114795</td>\n",
       "      <td>protein_coding</td>\n",
       "      <td>145</td>\n",
       "      <td>3217.0</td>\n",
       "    </tr>\n",
       "  </tbody>\n",
       "</table>\n",
       "<p>19258 rows × 8 columns</p>\n",
       "</div>"
      ],
      "text/plain": [
       "                    length   gene_name chromosome      start        end   \n",
       "ENSMUSG00000000001   38866       Gnai3          3  108107280  108146146  \\\n",
       "ENSMUSG00000000028    1483       Cdc45         16   18810108   18811591   \n",
       "ENSMUSG00000000049   19103        Apoh         11  108395293  108414396   \n",
       "ENSMUSG00000000056     791        Narf         11  121245020  121245811   \n",
       "ENSMUSG00000000078    2092        Klf6         13    5864678    5866770   \n",
       "...                    ...         ...        ...        ...        ...   \n",
       "ENSMUSG00000116987   29510  AC150035.3         16   91435293   91464803   \n",
       "ENSMUSG00000116988   65093  AC164314.2         17    8082695    8147788   \n",
       "ENSMUSG00000116992   42514  AC183097.4         17    6369017    6411531   \n",
       "ENSMUSG00000116993   36081  AC135964.2         16   86770283   86806364   \n",
       "ENSMUSG00000116995    3005  AC110534.5         17    3111790    3114795   \n",
       "\n",
       "                                 biotype  n_cells  n_counts  \n",
       "ENSMUSG00000000001        protein_coding      901   14640.0  \n",
       "ENSMUSG00000000028        protein_coding      157    4212.0  \n",
       "ENSMUSG00000000049        protein_coding     1159   18787.0  \n",
       "ENSMUSG00000000056        protein_coding      347    4189.0  \n",
       "ENSMUSG00000000078                snoRNA       66     683.0  \n",
       "...                                  ...      ...       ...  \n",
       "ENSMUSG00000116987        protein_coding      100     936.0  \n",
       "ENSMUSG00000116988        protein_coding      223    1112.0  \n",
       "ENSMUSG00000116992  processed_transcript      547   16472.0  \n",
       "ENSMUSG00000116993        protein_coding      438    4375.0  \n",
       "ENSMUSG00000116995        protein_coding      145    3217.0  \n",
       "\n",
       "[19258 rows x 8 columns]"
      ]
     },
     "execution_count": 8,
     "metadata": {},
     "output_type": "execute_result"
    }
   ],
   "source": [
    "adata.var"
   ]
  },
  {
   "cell_type": "code",
   "execution_count": 10,
   "id": "df513a57",
   "metadata": {},
   "outputs": [
    {
     "data": {
      "text/plain": [
       "0"
      ]
     },
     "execution_count": 10,
     "metadata": {},
     "output_type": "execute_result"
    }
   ],
   "source": [
    "count_zeros = (adata.var['n_cells'] == NaN).sum()\n",
    "count_zeros"
   ]
  },
  {
   "cell_type": "code",
   "execution_count": 11,
   "id": "db6f7bb3",
   "metadata": {},
   "outputs": [
    {
     "name": "stdout",
     "output_type": "stream",
     "text": [
      "[1] \"running copykat v1.1.0\"\n",
      "[1] \"step1: read and filter data ...\"\n",
      "[1] \"19258 genes, 1649 cells in raw data\"\n",
      "[1] \"13764 genes past LOW.DR filtering\"\n",
      "[1] \"step 2: annotations gene coordinates ...\"\n",
      "[1] \"start annotation ...\"\n"
     ]
    },
    {
     "name": "stderr",
     "output_type": "stream",
     "text": [
      "WARNING:rpy2.rinterface_lib.callbacks:R[write to console]: Fehler in data.frame(..., check.names = FALSE) : \n",
      "  Argumente implizieren unterschiedliche Anzahl Zeilen: 13477, 13495\n",
      "\n"
     ]
    },
    {
     "ename": "RRuntimeError",
     "evalue": "Fehler in data.frame(..., check.names = FALSE) : \n  Argumente implizieren unterschiedliche Anzahl Zeilen: 13477, 13495\n",
     "output_type": "error",
     "traceback": [
      "\u001b[0;31m---------------------------------------------------------------------------\u001b[0m",
      "\u001b[0;31mRRuntimeError\u001b[0m                             Traceback (most recent call last)",
      "Cell \u001b[0;32mIn[11], line 1\u001b[0m\n\u001b[0;32m----> 1\u001b[0m \u001b[43mcnv\u001b[49m\u001b[38;5;241;43m.\u001b[39;49m\u001b[43mtl\u001b[49m\u001b[38;5;241;43m.\u001b[39;49m\u001b[43mcopykat\u001b[49m\u001b[43m(\u001b[49m\u001b[43madata\u001b[49m\u001b[43m,\u001b[49m\u001b[43m \u001b[49m\u001b[43mgene_ids\u001b[49m\u001b[38;5;241;43m=\u001b[39;49m\u001b[38;5;124;43m'\u001b[39;49m\u001b[38;5;124;43mE\u001b[39;49m\u001b[38;5;124;43m'\u001b[39;49m\u001b[43m,\u001b[49m\u001b[43m \u001b[49m\u001b[43morganism\u001b[49m\u001b[38;5;241;43m=\u001b[39;49m\u001b[38;5;124;43m\"\u001b[39;49m\u001b[38;5;124;43mmouse\u001b[39;49m\u001b[38;5;124;43m\"\u001b[39;49m\u001b[43m,\u001b[49m\u001b[43m \u001b[49m\u001b[43msegmentation_cut\u001b[49m\u001b[38;5;241;43m=\u001b[39;49m\u001b[38;5;241;43m0.1\u001b[39;49m\u001b[43m,\u001b[49m\u001b[43m \u001b[49m\u001b[43mdistance\u001b[49m\u001b[38;5;241;43m=\u001b[39;49m\u001b[38;5;124;43m'\u001b[39;49m\u001b[38;5;124;43meuclidean\u001b[39;49m\u001b[38;5;124;43m'\u001b[39;49m\u001b[43m,\u001b[49m\u001b[43m \u001b[49m\n\u001b[1;32m      2\u001b[0m \u001b[43m                \u001b[49m\u001b[43ms_name\u001b[49m\u001b[38;5;241;43m=\u001b[39;49m\u001b[38;5;124;43m'\u001b[39;49m\u001b[38;5;124;43mcopykat_result\u001b[39;49m\u001b[38;5;124;43m'\u001b[39;49m\u001b[43m,\u001b[49m\u001b[43m \u001b[49m\u001b[43mmin_genes_chr\u001b[49m\u001b[38;5;241;43m=\u001b[39;49m\u001b[38;5;241;43m0\u001b[39;49m\u001b[43m,\u001b[49m\u001b[43m \u001b[49m\u001b[43mkey_added\u001b[49m\u001b[38;5;241;43m=\u001b[39;49m\u001b[38;5;124;43m'\u001b[39;49m\u001b[38;5;124;43mcnv\u001b[39;49m\u001b[38;5;124;43m'\u001b[39;49m\u001b[43m,\u001b[49m\u001b[43m \u001b[49m\n\u001b[1;32m      3\u001b[0m \u001b[43m                \u001b[49m\u001b[43minplace\u001b[49m\u001b[38;5;241;43m=\u001b[39;49m\u001b[38;5;28;43;01mTrue\u001b[39;49;00m\u001b[43m,\u001b[49m\u001b[43m \u001b[49m\u001b[43mlayer\u001b[49m\u001b[38;5;241;43m=\u001b[39;49m\u001b[38;5;28;43;01mNone\u001b[39;49;00m\u001b[43m,\u001b[49m\u001b[43m \u001b[49m\u001b[43mn_jobs\u001b[49m\u001b[38;5;241;43m=\u001b[39;49m\u001b[38;5;28;43;01mNone\u001b[39;49;00m\u001b[43m,\u001b[49m\u001b[43m \u001b[49m\u001b[43mnorm_cell_names\u001b[49m\u001b[38;5;241;43m=\u001b[39;49m\u001b[38;5;124;43m'\u001b[39;49m\u001b[38;5;124;43m'\u001b[39;49m\u001b[43m)\u001b[49m\n",
      "File \u001b[0;32m~/miniconda3/envs/cnv/lib/python3.11/site-packages/infercnvpy/tl/_copykat.py:121\u001b[0m, in \u001b[0;36mcopykat\u001b[0;34m(adata, gene_ids, organism, segmentation_cut, distance, s_name, min_genes_chr, key_added, inplace, layer, n_jobs, norm_cell_names)\u001b[0m\n\u001b[1;32m    118\u001b[0m ro\u001b[38;5;241m.\u001b[39mglobalenv[\u001b[38;5;124m\"\u001b[39m\u001b[38;5;124morganism\u001b[39m\u001b[38;5;124m\"\u001b[39m] \u001b[38;5;241m=\u001b[39m ro\u001b[38;5;241m.\u001b[39mconversion\u001b[38;5;241m.\u001b[39mpy2rpy(organism)\n\u001b[1;32m    120\u001b[0m logging\u001b[38;5;241m.\u001b[39minfo(\u001b[38;5;124m\"\u001b[39m\u001b[38;5;124mRunning copyKAT\u001b[39m\u001b[38;5;124m\"\u001b[39m)\n\u001b[0;32m--> 121\u001b[0m \u001b[43mro\u001b[49m\u001b[38;5;241;43m.\u001b[39;49m\u001b[43mr\u001b[49m\u001b[43m(\u001b[49m\n\u001b[1;32m    122\u001b[0m \u001b[38;5;250;43m    \u001b[39;49m\u001b[38;5;124;43;03m\"\"\"\u001b[39;49;00m\n\u001b[1;32m    123\u001b[0m \u001b[38;5;124;43;03m    rownames(expr_r) <- gene_names\u001b[39;49;00m\n\u001b[1;32m    124\u001b[0m \u001b[38;5;124;43;03m    colnames(expr_r) <- cell_IDs\u001b[39;49;00m\n\u001b[1;32m    125\u001b[0m \u001b[38;5;124;43;03m    if (organism == \"mouse\"){\u001b[39;49;00m\n\u001b[1;32m    126\u001b[0m \u001b[38;5;124;43;03m        copyKAT_run <- copykat(rawmat = expr_r, id.type = gene_ids, ngene.chr = min_gene_chr, win.size = 25,\u001b[39;49;00m\n\u001b[1;32m    127\u001b[0m \u001b[38;5;124;43;03m                            KS.cut = segmentation_cut, sam.name = s_name, distance = distance, norm.cell.names = norm_cell_names,\u001b[39;49;00m\n\u001b[1;32m    128\u001b[0m \u001b[38;5;124;43;03m                            n.cores = n_jobs, output.seg = FALSE, genome = 'mm10')\u001b[39;49;00m\n\u001b[1;32m    129\u001b[0m \u001b[38;5;124;43;03m    } else {\u001b[39;49;00m\n\u001b[1;32m    130\u001b[0m \u001b[38;5;124;43;03m        copyKAT_run <- copykat(rawmat = expr_r, id.type = gene_ids, ngene.chr = min_gene_chr, win.size = 25,\u001b[39;49;00m\n\u001b[1;32m    131\u001b[0m \u001b[38;5;124;43;03m                            KS.cut = segmentation_cut, sam.name = s_name, distance = distance, norm.cell.names = norm_cell_names,\u001b[39;49;00m\n\u001b[1;32m    132\u001b[0m \u001b[38;5;124;43;03m                            n.cores = n_jobs, output.seg = FALSE)\u001b[39;49;00m\n\u001b[1;32m    133\u001b[0m \u001b[38;5;124;43;03m    }\u001b[39;49;00m\n\u001b[1;32m    134\u001b[0m \u001b[38;5;124;43;03m    copyKAT_result <- data.frame(copyKAT_run$CNAmat)\u001b[39;49;00m\n\u001b[1;32m    135\u001b[0m \u001b[38;5;124;43;03m    colnames(copyKAT_result) <- str_replace_all(colnames(copyKAT_result), \"\\\\\\\\.\", \"-\")\u001b[39;49;00m\n\u001b[1;32m    136\u001b[0m \u001b[38;5;124;43;03m    copyKAT_pred <- data.frame(copyKAT_run$prediction)\u001b[39;49;00m\n\u001b[1;32m    137\u001b[0m \u001b[38;5;124;43;03m    if(dim(copyKAT_result)[2] != length(cell_IDs)){\u001b[39;49;00m\n\u001b[1;32m    138\u001b[0m \u001b[38;5;124;43;03m        missing_cells <- setdiff(cell_IDs,colnames(copyKAT_result))\u001b[39;49;00m\n\u001b[1;32m    139\u001b[0m \u001b[38;5;124;43;03m        na_mtrx <- data.frame(matrix(ncol=length(missing_cells),nrow=nrow(copyKAT_result)))\u001b[39;49;00m\n\u001b[1;32m    140\u001b[0m \u001b[38;5;124;43;03m        new_colnames <- c(colnames(copyKAT_result),missing_cells)\u001b[39;49;00m\n\u001b[1;32m    141\u001b[0m \u001b[38;5;124;43;03m        copyKAT_result <- cbind(copyKAT_result,na_mtrx)\u001b[39;49;00m\n\u001b[1;32m    142\u001b[0m \u001b[38;5;124;43;03m        colnames(copyKAT_result) <- new_colnames\u001b[39;49;00m\n\u001b[1;32m    143\u001b[0m \u001b[38;5;124;43;03m    }\u001b[39;49;00m\n\u001b[1;32m    144\u001b[0m \u001b[38;5;124;43;03m    \"\"\"\u001b[39;49;00m\n\u001b[1;32m    145\u001b[0m \u001b[43m\u001b[49m\u001b[43m)\u001b[49m\n\u001b[1;32m    147\u001b[0m \u001b[38;5;28;01mwith\u001b[39;00m localconverter(ro\u001b[38;5;241m.\u001b[39mdefault_converter \u001b[38;5;241m+\u001b[39m numpy2ri\u001b[38;5;241m.\u001b[39mconverter \u001b[38;5;241m+\u001b[39m pandas2ri\u001b[38;5;241m.\u001b[39mconverter):\n\u001b[1;32m    148\u001b[0m     copyKAT_result \u001b[38;5;241m=\u001b[39m ro\u001b[38;5;241m.\u001b[39mconversion\u001b[38;5;241m.\u001b[39mrpy2py(ro\u001b[38;5;241m.\u001b[39mglobalenv[\u001b[38;5;124m\"\u001b[39m\u001b[38;5;124mcopyKAT_result\u001b[39m\u001b[38;5;124m\"\u001b[39m])\n",
      "File \u001b[0;32m~/miniconda3/envs/cnv/lib/python3.11/site-packages/rpy2/robjects/__init__.py:501\u001b[0m, in \u001b[0;36mR.__call__\u001b[0;34m(self, string, invisible, print_r_warnings)\u001b[0m\n\u001b[1;32m    499\u001b[0m     invisible \u001b[38;5;241m=\u001b[39m \u001b[38;5;28mself\u001b[39m\u001b[38;5;241m.\u001b[39m_invisible\n\u001b[1;32m    500\u001b[0m \u001b[38;5;28;01mif\u001b[39;00m invisible:\n\u001b[0;32m--> 501\u001b[0m     res, visible \u001b[38;5;241m=\u001b[39m \u001b[43mrinterface\u001b[49m\u001b[38;5;241;43m.\u001b[39;49m\u001b[43mevalr_expr_with_visible\u001b[49m\u001b[43m(\u001b[49m\u001b[43m   \u001b[49m\u001b[38;5;66;43;03m# type: ignore\u001b[39;49;00m\n\u001b[1;32m    502\u001b[0m \u001b[43m        \u001b[49m\u001b[43mr_expr\u001b[49m\n\u001b[1;32m    503\u001b[0m \u001b[43m    \u001b[49m\u001b[43m)\u001b[49m\n\u001b[1;32m    504\u001b[0m     \u001b[38;5;28;01mif\u001b[39;00m \u001b[38;5;129;01mnot\u001b[39;00m visible[\u001b[38;5;241m0\u001b[39m]:  \u001b[38;5;66;03m# type: ignore\u001b[39;00m\n\u001b[1;32m    505\u001b[0m         res \u001b[38;5;241m=\u001b[39m \u001b[38;5;28;01mNone\u001b[39;00m\n",
      "File \u001b[0;32m~/miniconda3/envs/cnv/lib/python3.11/site-packages/rpy2/rinterface.py:196\u001b[0m, in \u001b[0;36mevalr_expr_with_visible\u001b[0;34m(expr, envir)\u001b[0m\n\u001b[1;32m    189\u001b[0m r_res \u001b[38;5;241m=\u001b[39m rmemory\u001b[38;5;241m.\u001b[39mprotect(\n\u001b[1;32m    190\u001b[0m         openrlib\u001b[38;5;241m.\u001b[39mrlib\u001b[38;5;241m.\u001b[39mR_tryEval(\n\u001b[1;32m    191\u001b[0m             r_call,\n\u001b[1;32m    192\u001b[0m             envir\u001b[38;5;241m.\u001b[39m__sexp__\u001b[38;5;241m.\u001b[39m_cdata,  \u001b[38;5;66;03m# call context.\u001b[39;00m\n\u001b[1;32m    193\u001b[0m             error_occured)\n\u001b[1;32m    194\u001b[0m )\n\u001b[1;32m    195\u001b[0m \u001b[38;5;28;01mif\u001b[39;00m error_occured[\u001b[38;5;241m0\u001b[39m]:\n\u001b[0;32m--> 196\u001b[0m     \u001b[38;5;28;01mraise\u001b[39;00m embedded\u001b[38;5;241m.\u001b[39mRRuntimeError(_rinterface\u001b[38;5;241m.\u001b[39m_geterrmessage())\n\u001b[1;32m    197\u001b[0m res \u001b[38;5;241m=\u001b[39m conversion\u001b[38;5;241m.\u001b[39m_cdata_to_rinterface(r_res)\n\u001b[1;32m    198\u001b[0m \u001b[38;5;28;01massert\u001b[39;00m \u001b[38;5;28misinstance\u001b[39m(res, ListSexpVector)\n",
      "\u001b[0;31mRRuntimeError\u001b[0m: Fehler in data.frame(..., check.names = FALSE) : \n  Argumente implizieren unterschiedliche Anzahl Zeilen: 13477, 13495\n"
     ]
    }
   ],
   "source": [
    "cnv.tl.copykat(adata, gene_ids='E', organism=\"mouse\", segmentation_cut=0.1, distance='euclidean', \n",
    "                s_name='copykat_result', min_genes_chr=0, key_added='cnv', \n",
    "                inplace=True, layer=None, n_jobs=None, norm_cell_names='')"
   ]
  },
  {
   "cell_type": "code",
   "execution_count": null,
   "id": "dce17bf7",
   "metadata": {},
   "outputs": [],
   "source": []
  }
 ],
 "metadata": {
  "kernelspec": {
   "display_name": "Python 3 (ipykernel)",
   "language": "python",
   "name": "python3"
  },
  "language_info": {
   "codemirror_mode": {
    "name": "ipython",
    "version": 3
   },
   "file_extension": ".py",
   "mimetype": "text/x-python",
   "name": "python",
   "nbconvert_exporter": "python",
   "pygments_lexer": "ipython3",
   "version": "3.11.3"
  }
 },
 "nbformat": 4,
 "nbformat_minor": 5
}
